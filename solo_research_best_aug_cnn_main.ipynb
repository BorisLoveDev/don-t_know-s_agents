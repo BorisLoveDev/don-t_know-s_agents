{
  "nbformat": 4,
  "nbformat_minor": 0,
  "metadata": {
    "colab": {
      "provenance": [],
      "gpuType": "T4",
      "authorship_tag": "ABX9TyP6XEXIx2n3svTtcejT2B87",
      "include_colab_link": true
    },
    "kernelspec": {
      "name": "python3",
      "display_name": "Python 3"
    },
    "language_info": {
      "name": "python"
    },
    "accelerator": "GPU"
  },
  "cells": [
    {
      "cell_type": "markdown",
      "metadata": {
        "id": "view-in-github",
        "colab_type": "text"
      },
      "source": [
        "<a href=\"https://colab.research.google.com/github/BorisLoveDev/don-t_know-s_agents/blob/main/solo_research_best_aug_cnn_main.ipynb\" target=\"_parent\"><img src=\"https://colab.research.google.com/assets/colab-badge.svg\" alt=\"Open In Colab\"/></a>"
      ]
    },
    {
      "cell_type": "code",
      "execution_count": 1,
      "metadata": {
        "id": "IW750fEHkhLy"
      },
      "outputs": [],
      "source": [
        "# Импорт необходимых библиотек\n",
        "import tensorflow as tf\n",
        "from tensorflow.keras.datasets import mnist\n",
        "from tensorflow.keras.preprocessing.image import ImageDataGenerator\n",
        "from tensorflow.keras.utils import to_categorical\n",
        "import numpy as np\n",
        "from google.colab import drive\n",
        "import os\n",
        "import matplotlib.pyplot as plt\n",
        "from sklearn.utils import shuffle\n"
      ]
    },
    {
      "cell_type": "code",
      "source": [
        "# Монтирование Google Drive\n",
        "drive.mount('/content/drive')\n",
        "\n",
        "# Путь к папке для загрузки данных\n",
        "data_path = '/content/drive/My Drive/solo_research_aug_cnn/datasets'"
      ],
      "metadata": {
        "colab": {
          "base_uri": "https://localhost:8080/"
        },
        "id": "6IqSjV8Mwc5q",
        "outputId": "b814b873-fa87-40c0-cce5-cd175fa8dc96"
      },
      "execution_count": 2,
      "outputs": [
        {
          "output_type": "stream",
          "name": "stdout",
          "text": [
            "Mounted at /content/drive\n"
          ]
        }
      ]
    },
    {
      "cell_type": "code",
      "source": [
        "# Загрузка сохраненных данных\n",
        "x_train_new = np.load(os.path.join(data_path, 'x_train_new.npy'))\n",
        "y_train_new = np.load(os.path.join(data_path, 'y_train_new.npy'))\n",
        "x_val = np.load(os.path.join(data_path, 'x_val.npy'))\n",
        "y_val = np.load(os.path.join(data_path, 'y_val.npy'))\n",
        "x_test = np.load(os.path.join(data_path, 'x_test.npy'))\n",
        "y_test = np.load(os.path.join(data_path, 'y_test.npy'))\n",
        "\n",
        "# Загрузка дополнительных наборов данных\n",
        "x_val_easy = np.load(os.path.join(data_path, 'x_val_easy.npy'))\n",
        "x_val_medium = np.load(os.path.join(data_path, 'x_val_medium.npy'))\n",
        "x_val_hard = np.load(os.path.join(data_path, 'x_val_hard.npy'))\n",
        "x_val_indistinguishable = np.load(os.path.join(data_path, 'x_val_indistinguishable.npy'))\n",
        "\n",
        "\n",
        "# Перемешивание данных\n",
        "x_val, y_val = shuffle(x_val, y_val, random_state=42)\n",
        "# Остальные данные уже перемешенные\n",
        "\n",
        "# Применение one-hot encoding к меткам\n",
        "y_train_new_ohe = to_categorical(y_train_new, 10)\n",
        "y_val_ohe = to_categorical(y_val, 10)\n",
        "y_test_ohe = to_categorical(y_test, 10)\n",
        "\n",
        "print(\"Data loaded and one-hot encoded successfully.\")"
      ],
      "metadata": {
        "colab": {
          "base_uri": "https://localhost:8080/"
        },
        "id": "BPmxA3MEwjYm",
        "outputId": "eb51bdbc-e9e6-4ed5-e2ec-8ad39b080acc"
      },
      "execution_count": 14,
      "outputs": [
        {
          "output_type": "stream",
          "name": "stdout",
          "text": [
            "Data loaded and one-hot encoded successfully.\n"
          ]
        }
      ]
    },
    {
      "cell_type": "code",
      "source": [
        "# Печать форм всех загруженных и обработанных данных\n",
        "print(\"Форма x_train_new:\", x_train_new.shape)\n",
        "print(\"Форма y_train_new:\", y_train_new.shape)\n",
        "print(\"Форма y_train_new_ohe:\", y_train_new_ohe.shape)\n",
        "print(\"Форма x_val:\", x_val.shape)\n",
        "print(\"Форма y_val:\", y_val.shape)\n",
        "print(\"Форма y_val_ohe:\", y_val_ohe.shape)\n",
        "print(\"Форма x_test:\", x_test.shape)\n",
        "print(\"Форма y_test:\", y_test.shape)\n",
        "print(\"Форма y_test_ohe:\", y_test_ohe.shape)\n",
        "\n",
        "# Печать форм дополнительных наборов данных\n",
        "print(\"Форма x_val_easy:\", x_val_easy.shape)\n",
        "print(\"Форма x_val_medium:\", x_val_medium.shape)\n",
        "print(\"Форма x_val_hard:\", x_val_hard.shape)\n",
        "print(\"Форма x_val_indistinguishable:\", x_val_indistinguishable.shape)"
      ],
      "metadata": {
        "colab": {
          "base_uri": "https://localhost:8080/"
        },
        "id": "ky9SX7rJwpXM",
        "outputId": "d3e96d5d-8fb4-48db-e8fb-7ba68beac82d"
      },
      "execution_count": 4,
      "outputs": [
        {
          "output_type": "stream",
          "name": "stdout",
          "text": [
            "Форма x_train_new: (50000, 28, 28, 1)\n",
            "Форма y_train_new: (50000,)\n",
            "Форма y_train_new_ohe: (50000, 10)\n",
            "Форма x_val: (10000, 28, 28, 1)\n",
            "Форма y_val: (10000,)\n",
            "Форма y_val_ohe: (10000, 10)\n",
            "Форма x_test: (10000, 28, 28, 1)\n",
            "Форма y_test: (10000,)\n",
            "Форма y_test_ohe: (10000, 10)\n",
            "Форма x_val_easy: (10000, 28, 28, 1)\n",
            "Форма x_val_medium: (10000, 28, 28, 1)\n",
            "Форма x_val_hard: (10000, 28, 28, 1)\n",
            "Форма x_val_indistinguishable: (10000, 28, 28, 1)\n"
          ]
        }
      ]
    },
    {
      "cell_type": "code",
      "source": [
        "# Путь к папке для сохранения модели\n",
        "model_path = '/content/drive/My Drive/solo_research_aug_cnn/models'\n",
        "\n",
        "# Путь к файлу модели\n",
        "model_file = os.path.join(model_path, 'mnist_model.keras')\n",
        "# Загрузка модели\n",
        "model = tf.keras.models.load_model(model_file)"
      ],
      "metadata": {
        "id": "XQBpd7cGxV7R"
      },
      "execution_count": 5,
      "outputs": []
    },
    {
      "cell_type": "code",
      "source": [
        "#x_val = np.load(os.path.join(data_path, 'x_val_идеальные.npy'))"
      ],
      "metadata": {
        "id": "SxOjmB8zuk0l"
      },
      "execution_count": 7,
      "outputs": []
    },
    {
      "cell_type": "code",
      "source": [
        "# Список наборов данных различных уровней трудности\n",
        "difficulty_datasets = {\n",
        "    \"неизменные\": x_val,\n",
        "    \"легкие\": x_val_easy,\n",
        "    \"средние\": x_val_medium,\n",
        "    \"трудные\": x_val_hard,\n",
        "    \"неразличимые\": x_val_indistinguishable\n",
        "}\n",
        "\n",
        "# Оценка точности модели на валидационных данных для каждого уровня трудности\n",
        "for difficulty, data in difficulty_datasets.items():\n",
        "    test_loss, test_accuracy = model.evaluate(data, y_val_ohe, verbose=2)\n",
        "    print(f\"Точность модели на '{difficulty}' данных: {test_accuracy * 100:.2f}%\")\n"
      ],
      "metadata": {
        "colab": {
          "base_uri": "https://localhost:8080/"
        },
        "id": "h4UnKHMqxePv",
        "outputId": "180ef7e4-efb3-487b-8a7b-df6085ca629d"
      },
      "execution_count": 20,
      "outputs": [
        {
          "output_type": "stream",
          "name": "stdout",
          "text": [
            "313/313 - 1s - loss: 0.0159 - accuracy: 0.9946 - 854ms/epoch - 3ms/step\n",
            "Точность модели на 'неизменные' данных: 99.46%\n",
            "313/313 - 1s - loss: 0.0340 - accuracy: 0.9894 - 1s/epoch - 4ms/step\n",
            "Точность модели на 'легкие' данных: 98.94%\n",
            "313/313 - 1s - loss: 0.2048 - accuracy: 0.9335 - 1s/epoch - 4ms/step\n",
            "Точность модели на 'средние' данных: 93.35%\n",
            "313/313 - 1s - loss: 2.8698 - accuracy: 0.4139 - 1s/epoch - 4ms/step\n",
            "Точность модели на 'трудные' данных: 41.39%\n",
            "313/313 - 1s - loss: 5.9878 - accuracy: 0.1361 - 846ms/epoch - 3ms/step\n",
            "Точность модели на 'неразличимые' данных: 13.61%\n"
          ]
        }
      ]
    },
    {
      "cell_type": "code",
      "source": [
        "# Функция для деформации изображения\n",
        "def deform_image_optimized(image, A, B, M=100, NP=5):\n",
        "    C = M / (NP + 1.0)\n",
        "    SS = np.zeros((M, M))\n",
        "    XN, YN = np.zeros(M), np.zeros(M)\n",
        "    DX, DY = np.linspace(0, M-1, M), np.linspace(0, M-1, M)\n",
        "\n",
        "    for j in range(NP):\n",
        "        TXN = (j + 0.5 - np.random.random()) * C\n",
        "        TYN = (j + 0.5 - np.random.random()) * C\n",
        "        TDX = (j + 0.5 - np.random.random()) * C\n",
        "        TDY = (j + 0.5 - np.random.random()) * C\n",
        "        AXN = B * (1.0 - 2.0 * np.random.random())\n",
        "        AYN = B * (1.0 - 2.0 * np.random.random())\n",
        "        ADX = A * (1.0 - 2.0 * np.random.random())\n",
        "        ADY = A * (1.0 - 2.0 * np.random.random())\n",
        "        PXN = (0.1 + 0.9 * np.random.random()) * C\n",
        "        PYN = (0.1 + 0.9 * np.random.random()) * C\n",
        "        PDX = (0.1 + 0.9 * np.random.random()) * C\n",
        "        PDY = (0.1 + 0.9 * np.random.random()) * C\n",
        "\n",
        "        DX += ADX * np.exp(-((DX - TDX) / PDX)**2)\n",
        "        DY += ADY * np.exp(-((DY - TDY) / PDY)**2)\n",
        "        XN += AXN * np.exp(-((DX - TXN) / PXN)**2)\n",
        "        YN += AYN * np.exp(-((DY - TYN) / PYN)**2)\n",
        "\n",
        "    # Применение деформации к изображению\n",
        "    deformed_image = np.zeros((M, M))\n",
        "    for j in range(M):\n",
        "        for i in range(M):\n",
        "            x_index = int(DX[i] + XN[j])\n",
        "            y_index = int(DY[j] + YN[i])\n",
        "            if 0 <= x_index < M and 0 <= y_index < M:\n",
        "                deformed_image[j, i] = image[y_index, x_index] if y_index < image.shape[0] and x_index < image.shape[1] else 0\n",
        "\n",
        "    return deformed_image\n",
        "\n",
        "# Параметры деформации для разных уровней сложности\n",
        "deform_params = {\n",
        "    \"идеальные\": (0, 0),\n",
        "    \"легкие\": (0.2, 1.0),\n",
        "    \"средние\": (0.4, 2.0),\n",
        "    \"трудные\": (0.8, 6.0),\n",
        "    \"неразличимые\": (10.0, 30.0)\n",
        "}"
      ],
      "metadata": {
        "id": "qxakLWADTmvq"
      },
      "execution_count": 7,
      "outputs": []
    },
    {
      "cell_type": "code",
      "source": [
        "class DeformedImageDataGenerator:\n",
        "    def __init__(self, x_data, y_data, batch_size, deformation_params):\n",
        "        self.x_data = x_data\n",
        "        self.y_data = y_data\n",
        "        self.batch_size = batch_size\n",
        "        self.deformation_params = deformation_params\n",
        "        self.indexes = np.arange(len(self.x_data))\n",
        "\n",
        "    def __len__(self):\n",
        "        return int(np.floor(len(self.x_data) / self.batch_size))\n",
        "\n",
        "    def __getitem__(self, index):\n",
        "            batch_indexes = self.indexes[index * self.batch_size:(index + 1) * self.batch_size]\n",
        "            x_batch = np.array([deform_image_optimized(self.x_data[i], *self.deformation_params) for i in batch_indexes])\n",
        "            x_batch = np.expand_dims(x_batch, axis=-1)  # Добавление измерения канала\n",
        "            x_batch = tf.image.resize(x_batch, (28, 28))  # Изменение размера изображений\n",
        "            y_batch = self.y_data[batch_indexes]\n",
        "            return x_batch, y_batch\n",
        "\n",
        "    def on_epoch_end(self):\n",
        "        np.random.shuffle(self.indexes)\n"
      ],
      "metadata": {
        "id": "aiv0gprTUjrH"
      },
      "execution_count": 16,
      "outputs": []
    },
    {
      "cell_type": "code",
      "source": [
        "# Параметры деформации для \"средних\" изображений\n",
        "deformation_params_medium = deform_params[\"средние\"]\n",
        "\n",
        "# Создание генератора данных\n",
        "batch_size = 1000  # можно изменить в зависимости от доступных ресурсов\n",
        "data_generator = DeformedImageDataGenerator(x_val, y_val_ohe, batch_size, deformation_params_medium)"
      ],
      "metadata": {
        "id": "v0CiSROjknhO"
      },
      "execution_count": 19,
      "outputs": []
    },
    {
      "cell_type": "code",
      "source": [
        "# Оценка точности на данных средней сложности\n",
        "total_batches = len(data_generator)\n",
        "total_accuracy = 0\n",
        "\n",
        "for batch_index in range(total_batches):\n",
        "    x_batch, y_batch = data_generator[batch_index]\n",
        "    print(x_batch.shape)\n",
        "    loss, accuracy = model.evaluate(x_batch, y_batch, verbose=0)\n",
        "    total_accuracy += accuracy\n",
        "\n",
        "average_accuracy = total_accuracy / total_batches\n",
        "print(f\"Средняя точность модели на данных средней сложности: {average_accuracy * 100:.2f}%\")"
      ],
      "metadata": {
        "colab": {
          "base_uri": "https://localhost:8080/"
        },
        "id": "9qiTORc2kucT",
        "outputId": "10a5a5e9-b42b-4997-ee61-7b7dee298253"
      },
      "execution_count": 20,
      "outputs": [
        {
          "output_type": "stream",
          "name": "stdout",
          "text": [
            "(1000, 28, 28, 1)\n",
            "(1000, 28, 28, 1)\n",
            "(1000, 28, 28, 1)\n",
            "(1000, 28, 28, 1)\n",
            "(1000, 28, 28, 1)\n",
            "(1000, 28, 28, 1)\n",
            "(1000, 28, 28, 1)\n",
            "(1000, 28, 28, 1)\n",
            "(1000, 28, 28, 1)\n",
            "(1000, 28, 28, 1)\n",
            "Средняя точность модели на данных средней сложности: 10.00%\n"
          ]
        }
      ]
    }
  ]
}