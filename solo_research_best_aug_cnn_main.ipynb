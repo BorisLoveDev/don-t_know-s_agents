{
  "nbformat": 4,
  "nbformat_minor": 0,
  "metadata": {
    "colab": {
      "provenance": [],
      "gpuType": "T4",
      "authorship_tag": "ABX9TyMgPwtEPU04ok3qEiZpEZN8",
      "include_colab_link": true
    },
    "kernelspec": {
      "name": "python3",
      "display_name": "Python 3"
    },
    "language_info": {
      "name": "python"
    },
    "accelerator": "GPU"
  },
  "cells": [
    {
      "cell_type": "markdown",
      "metadata": {
        "id": "view-in-github",
        "colab_type": "text"
      },
      "source": [
        "<a href=\"https://colab.research.google.com/github/BorisLoveDev/don-t_know-s_agents/blob/main/solo_research_best_aug_cnn_main.ipynb\" target=\"_parent\"><img src=\"https://colab.research.google.com/assets/colab-badge.svg\" alt=\"Open In Colab\"/></a>"
      ]
    },
    {
      "cell_type": "code",
      "execution_count": 1,
      "metadata": {
        "id": "IW750fEHkhLy"
      },
      "outputs": [],
      "source": [
        "# Импорт необходимых библиотек\n",
        "import tensorflow as tf\n",
        "from tensorflow.keras.datasets import mnist\n",
        "from tensorflow.keras.preprocessing.image import ImageDataGenerator\n",
        "from tensorflow.keras.utils import to_categorical\n",
        "import numpy as np\n",
        "from google.colab import drive\n",
        "import os\n",
        "import matplotlib as plt"
      ]
    },
    {
      "cell_type": "code",
      "source": [
        "# Монтирование Google Drive\n",
        "drive.mount('/content/drive')\n",
        "\n",
        "# Путь к папке для загрузки данных\n",
        "data_path = '/content/drive/My Drive/solo_research_aug_cnn/datasets'"
      ],
      "metadata": {
        "colab": {
          "base_uri": "https://localhost:8080/"
        },
        "id": "6IqSjV8Mwc5q",
        "outputId": "cc3b96da-f979-40b1-f829-b38af5c8465e"
      },
      "execution_count": 2,
      "outputs": [
        {
          "output_type": "stream",
          "name": "stdout",
          "text": [
            "Mounted at /content/drive\n"
          ]
        }
      ]
    },
    {
      "cell_type": "code",
      "source": [
        "# Загрузка сохраненных данных\n",
        "x_train_new = np.load(os.path.join(data_path, 'x_train_new.npy'))\n",
        "y_train_new = np.load(os.path.join(data_path, 'y_train_new.npy'))\n",
        "x_val = np.load(os.path.join(data_path, 'x_val.npy'))\n",
        "y_val = np.load(os.path.join(data_path, 'y_val.npy'))\n",
        "x_test = np.load(os.path.join(data_path, 'x_test.npy'))\n",
        "y_test = np.load(os.path.join(data_path, 'y_test.npy'))\n",
        "\n",
        "# Применение one-hot encoding к меткам\n",
        "y_train_new_ohe = to_categorical(y_train_new, 10)\n",
        "y_val_ohe = to_categorical(y_val, 10)\n",
        "y_test_ohe = to_categorical(y_test, 10)\n",
        "\n",
        "print(\"Data loaded and one-hot encoded successfully.\")"
      ],
      "metadata": {
        "colab": {
          "base_uri": "https://localhost:8080/"
        },
        "id": "BPmxA3MEwjYm",
        "outputId": "56a0a2a0-aa3d-48da-e048-af2a3dd42e59"
      },
      "execution_count": 3,
      "outputs": [
        {
          "output_type": "stream",
          "name": "stdout",
          "text": [
            "Data loaded and one-hot encoded successfully.\n"
          ]
        }
      ]
    },
    {
      "cell_type": "code",
      "source": [
        "# Печать форм всех загруженных и обработанных данных\n",
        "print(\"Форма x_train_new:\", x_train_new.shape)\n",
        "print(\"Форма y_train_new:\", y_train_new.shape)\n",
        "print(\"Форма y_train_new_ohe:\", y_train_new_ohe.shape)\n",
        "\n",
        "print(\"Форма x_val:\", x_val.shape)\n",
        "print(\"Форма y_val:\", y_val.shape)\n",
        "print(\"Форма y_val_ohe:\", y_val_ohe.shape)\n",
        "\n",
        "print(\"Форма x_test:\", x_test.shape)\n",
        "print(\"Форма y_test:\", y_test.shape)\n",
        "print(\"Форма y_test_ohe:\", y_test_ohe.shape)\n"
      ],
      "metadata": {
        "colab": {
          "base_uri": "https://localhost:8080/"
        },
        "id": "ky9SX7rJwpXM",
        "outputId": "68ec7572-241b-4353-ab58-d4f0925db540"
      },
      "execution_count": 4,
      "outputs": [
        {
          "output_type": "stream",
          "name": "stdout",
          "text": [
            "Форма x_train_new: (50000, 28, 28, 1)\n",
            "Форма y_train_new: (50000,)\n",
            "Форма y_train_new_ohe: (50000, 10)\n",
            "Форма x_val: (10000, 28, 28, 1)\n",
            "Форма y_val: (10000,)\n",
            "Форма y_val_ohe: (10000, 10)\n",
            "Форма x_test: (10000, 28, 28, 1)\n",
            "Форма y_test: (10000,)\n",
            "Форма y_test_ohe: (10000, 10)\n"
          ]
        }
      ]
    },
    {
      "cell_type": "code",
      "source": [
        "# Путь к папке для сохранения модели\n",
        "model_path = '/content/drive/My Drive/solo_research_aug_cnn/models'\n",
        "\n",
        "# Путь к файлу модели\n",
        "model_file = os.path.join(model_path, 'mnist_model.keras')\n",
        "# Загрузка модели\n",
        "model = tf.keras.models.load_model(model_file)"
      ],
      "metadata": {
        "id": "XQBpd7cGxV7R"
      },
      "execution_count": 7,
      "outputs": []
    },
    {
      "cell_type": "code",
      "source": [
        "# Оценка точности модели на тестовых данных\n",
        "test_loss, test_accuracy = model.evaluate(x_test, y_test_ohe, verbose=2)\n",
        "print(f\"Точность модели на тестовых данных: {test_accuracy * 100:.4f}%\")"
      ],
      "metadata": {
        "colab": {
          "base_uri": "https://localhost:8080/"
        },
        "id": "h4UnKHMqxePv",
        "outputId": "dffa8563-ec97-4535-8c98-fb310aca9c84"
      },
      "execution_count": 8,
      "outputs": [
        {
          "output_type": "stream",
          "name": "stdout",
          "text": [
            "313/313 - 1s - loss: 0.0119 - accuracy: 0.9960 - 1s/epoch - 4ms/step\n",
            "Точность модели на тестовых данных: 99.6000%\n"
          ]
        }
      ]
    }
  ]
}