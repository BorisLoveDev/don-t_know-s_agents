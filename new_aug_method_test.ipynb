{
  "nbformat": 4,
  "nbformat_minor": 0,
  "metadata": {
    "colab": {
      "provenance": [],
      "gpuType": "T4",
      "authorship_tag": "ABX9TyNeBPufosT/nboPxbgUSqGV",
      "include_colab_link": true
    },
    "kernelspec": {
      "name": "python3",
      "display_name": "Python 3"
    },
    "language_info": {
      "name": "python"
    },
    "accelerator": "GPU"
  },
  "cells": [
    {
      "cell_type": "markdown",
      "metadata": {
        "id": "view-in-github",
        "colab_type": "text"
      },
      "source": [
        "<a href=\"https://colab.research.google.com/github/BorisLoveDev/don-t_know-s_agents/blob/main/new_aug_method_test.ipynb\" target=\"_parent\"><img src=\"https://colab.research.google.com/assets/colab-badge.svg\" alt=\"Open In Colab\"/></a>"
      ]
    },
    {
      "cell_type": "code",
      "execution_count": 1,
      "metadata": {
        "id": "lBfqqbe_4uDa"
      },
      "outputs": [],
      "source": [
        "# Импорт необходимых библиотек\n",
        "import tensorflow as tf\n",
        "from tensorflow.keras.datasets import mnist\n",
        "from tensorflow.keras.preprocessing.image import ImageDataGenerator\n",
        "from tensorflow.keras.utils import to_categorical\n",
        "import numpy as np\n",
        "from google.colab import drive\n",
        "import os\n",
        "import matplotlib.pyplot as plt\n",
        "from sklearn.utils import shuffle\n",
        "from tensorflow.keras.models import Sequential\n",
        "from tensorflow.keras.layers import Conv2D, MaxPooling2D, Flatten, Dense, Dropout, BatchNormalization\n",
        "from tensorflow.keras.optimizers import Adam\n",
        "from tensorflow.keras.callbacks import ReduceLROnPlateau, EarlyStopping, ModelCheckpoint"
      ]
    },
    {
      "cell_type": "code",
      "source": [
        "# Монтирование Google Drive\n",
        "drive.mount('/content/drive')\n",
        "\n",
        "# Путь к папке для загрузки данных\n",
        "data_path = '/content/drive/My Drive/solo_research_aug_cnn/datasets'"
      ],
      "metadata": {
        "colab": {
          "base_uri": "https://localhost:8080/"
        },
        "id": "kMhApF0P6CY-",
        "outputId": "9af8897a-82d3-4904-9062-962bcd4c99ae"
      },
      "execution_count": 2,
      "outputs": [
        {
          "output_type": "stream",
          "name": "stdout",
          "text": [
            "Drive already mounted at /content/drive; to attempt to forcibly remount, call drive.mount(\"/content/drive\", force_remount=True).\n"
          ]
        }
      ]
    },
    {
      "cell_type": "code",
      "source": [
        "# Загрузка сохраненных данных\n",
        "x_train_new = np.load(os.path.join(data_path, 'x_train_new.npy'))\n",
        "y_train_new = np.load(os.path.join(data_path, 'y_train_new.npy'))\n",
        "x_val = np.load(os.path.join(data_path, 'x_val.npy'))\n",
        "y_val = np.load(os.path.join(data_path, 'y_val.npy'))\n",
        "x_test = np.load(os.path.join(data_path, 'x_test.npy'))\n",
        "y_test = np.load(os.path.join(data_path, 'y_test.npy'))\n",
        "\n",
        "# Загрузка дополнительных наборов данных\n",
        "x_val_easy = np.load(os.path.join(data_path, 'x_val_easy.npy'))\n",
        "x_val_medium = np.load(os.path.join(data_path, 'x_val_medium.npy'))\n",
        "x_val_hard = np.load(os.path.join(data_path, 'x_val_hard.npy'))\n",
        "x_val_indistinguishable = np.load(os.path.join(data_path, 'x_val_indistinguishable.npy'))\n",
        "\n",
        "\n",
        "# Перемешивание данных\n",
        "x_val, y_val = shuffle(x_val, y_val, random_state=42)\n",
        "# Остальные данные уже перемешенные\n",
        "\n",
        "# Применение one-hot encoding к меткам\n",
        "y_train_new_ohe = to_categorical(y_train_new, 10)\n",
        "y_val_ohe = to_categorical(y_val, 10)\n",
        "y_test_ohe = to_categorical(y_test, 10)\n",
        "\n",
        "print(\"Data loaded and one-hot encoded successfully.\")"
      ],
      "metadata": {
        "colab": {
          "base_uri": "https://localhost:8080/"
        },
        "id": "U9ZT5TLJ6DxZ",
        "outputId": "9f0219a9-53a9-4b7e-9891-fcfebe8c284d"
      },
      "execution_count": 3,
      "outputs": [
        {
          "output_type": "stream",
          "name": "stdout",
          "text": [
            "Data loaded and one-hot encoded successfully.\n"
          ]
        }
      ]
    },
    {
      "cell_type": "code",
      "source": [
        "# Печать форм всех загруженных и обработанных данных\n",
        "print(\"Форма x_train_new:\", x_train_new.shape)\n",
        "print(\"Форма y_train_new:\", y_train_new.shape)\n",
        "print(\"Форма y_train_new_ohe:\", y_train_new_ohe.shape)\n",
        "print(\"Форма x_val:\", x_val.shape)\n",
        "print(\"Форма y_val:\", y_val.shape)\n",
        "print(\"Форма y_val_ohe:\", y_val_ohe.shape)\n",
        "print(\"Форма x_test:\", x_test.shape)\n",
        "print(\"Форма y_test:\", y_test.shape)\n",
        "print(\"Форма y_test_ohe:\", y_test_ohe.shape)\n",
        "\n",
        "# Печать форм дополнительных наборов данных\n",
        "print(\"Форма x_val_easy:\", x_val_easy.shape)\n",
        "print(\"Форма x_val_medium:\", x_val_medium.shape)\n",
        "print(\"Форма x_val_hard:\", x_val_hard.shape)\n",
        "print(\"Форма x_val_indistinguishable:\", x_val_indistinguishable.shape)"
      ],
      "metadata": {
        "colab": {
          "base_uri": "https://localhost:8080/"
        },
        "id": "tbDngQju6FuV",
        "outputId": "4dd7c4f5-3dda-4bb9-8827-2a73b2406ae9"
      },
      "execution_count": 4,
      "outputs": [
        {
          "output_type": "stream",
          "name": "stdout",
          "text": [
            "Форма x_train_new: (50000, 28, 28, 1)\n",
            "Форма y_train_new: (50000,)\n",
            "Форма y_train_new_ohe: (50000, 10)\n",
            "Форма x_val: (10000, 28, 28, 1)\n",
            "Форма y_val: (10000,)\n",
            "Форма y_val_ohe: (10000, 10)\n",
            "Форма x_test: (10000, 28, 28, 1)\n",
            "Форма y_test: (10000,)\n",
            "Форма y_test_ohe: (10000, 10)\n",
            "Форма x_val_easy: (10000, 28, 28, 1)\n",
            "Форма x_val_medium: (10000, 28, 28, 1)\n",
            "Форма x_val_hard: (10000, 28, 28, 1)\n",
            "Форма x_val_indistinguishable: (10000, 28, 28, 1)\n"
          ]
        }
      ]
    },
    {
      "cell_type": "code",
      "source": [
        "# Аугментация данных\n",
        "datagen = ImageDataGenerator(\n",
        "    rotation_range=10,  # случайный поворот изображений\n",
        "    width_shift_range=0.1,  # случайный сдвиг изображений по ширине\n",
        "    height_shift_range=0.1,  # случайный сдвиг изображений по высоте\n",
        "    zoom_range=0.1  # случайный зум\n",
        ")\n",
        "# Подготовка генератора данных\n",
        "datagen.fit(x_val)"
      ],
      "metadata": {
        "id": "NrAqsSZ26I4t"
      },
      "execution_count": 5,
      "outputs": []
    },
    {
      "cell_type": "code",
      "source": [
        "def create_cnn_model():\n",
        "    model = Sequential([\n",
        "        Conv2D(32, (3, 3), activation='relu', input_shape=(28, 28, 1)),\n",
        "        BatchNormalization(),\n",
        "        Conv2D(64, (3, 3), activation='relu'),\n",
        "        BatchNormalization(),\n",
        "        MaxPooling2D(2, 2),\n",
        "        Dropout(0.25),\n",
        "        Conv2D(128, (3, 3), activation='relu'),\n",
        "        BatchNormalization(),\n",
        "        Dropout(0.25),\n",
        "        Flatten(),\n",
        "        Dense(128, activation='relu'),\n",
        "        BatchNormalization(),\n",
        "        Dropout(0.5),\n",
        "        Dense(10, activation='softmax')\n",
        "    ])\n",
        "\n",
        "    return model\n",
        "\n",
        "\n",
        "\n",
        "model_standart_aug = create_cnn_model()\n",
        "\n",
        "model_new_aug = create_cnn_model()\n"
      ],
      "metadata": {
        "id": "VRdx3P0E6LwF"
      },
      "execution_count": 6,
      "outputs": []
    },
    {
      "cell_type": "code",
      "source": [
        "y_test_ohe.shape"
      ],
      "metadata": {
        "colab": {
          "base_uri": "https://localhost:8080/"
        },
        "id": "TfabJCZ69M1_",
        "outputId": "d3b38f53-0410-4e03-cd91-4ceb9a16aced"
      },
      "execution_count": 7,
      "outputs": [
        {
          "output_type": "execute_result",
          "data": {
            "text/plain": [
              "(10000, 10)"
            ]
          },
          "metadata": {},
          "execution_count": 7
        }
      ]
    },
    {
      "cell_type": "code",
      "source": [
        "# Использование функции для создания модели\n",
        "model_simple = create_cnn_model()\n",
        "# Компиляция модели\n",
        "model_simple.compile(optimizer=Adam(learning_rate=0.001),\n",
        "              loss='categorical_crossentropy',\n",
        "              metrics=['accuracy'])\n",
        "\n",
        "# Каллбеки\n",
        "reduce_lr = ReduceLROnPlateau(monitor='val_loss', factor=0.2, patience=5, min_lr=0.0001)\n",
        "early_stop = EarlyStopping(monitor='val_loss', patience=8, restore_best_weights=True)\n",
        "model_checkpoint = ModelCheckpoint('best_model.h5', monitor='val_loss', save_best_only=True)\n",
        "\n",
        "\n",
        "# Обучение модели на оригинальных данных\n",
        "history = model_simple.fit(x_val, y_val_ohe,\n",
        "                           batch_size=32,\n",
        "                           epochs=50,\n",
        "                           validation_data=(x_test, y_test_ohe),\n",
        "                           callbacks=[reduce_lr, early_stop, model_checkpoint])\n",
        "\n"
      ],
      "metadata": {
        "colab": {
          "base_uri": "https://localhost:8080/"
        },
        "id": "o_qXRh7u6QEj",
        "outputId": "37f5e57a-0e85-4c13-83bc-60a78f7f707e"
      },
      "execution_count": 44,
      "outputs": [
        {
          "output_type": "stream",
          "name": "stdout",
          "text": [
            "Epoch 1/50\n",
            "313/313 [==============================] - 7s 14ms/step - loss: 1.7116 - accuracy: 0.4616 - val_loss: 9.4552 - val_accuracy: 0.1135 - lr: 0.0010\n",
            "Epoch 2/50\n",
            "  9/313 [..............................] - ETA: 2s - loss: 1.1821 - accuracy: 0.6215"
          ]
        },
        {
          "output_type": "stream",
          "name": "stderr",
          "text": [
            "/usr/local/lib/python3.10/dist-packages/keras/src/engine/training.py:3103: UserWarning: You are saving your model as an HDF5 file via `model.save()`. This file format is considered legacy. We recommend using instead the native Keras format, e.g. `model.save('my_model.keras')`.\n",
            "  saving_api.save_model(\n"
          ]
        },
        {
          "output_type": "stream",
          "name": "stdout",
          "text": [
            "313/313 [==============================] - 3s 9ms/step - loss: 1.0520 - accuracy: 0.6605 - val_loss: 1.0041 - val_accuracy: 0.6814 - lr: 0.0010\n",
            "Epoch 3/50\n",
            "313/313 [==============================] - 3s 11ms/step - loss: 0.8099 - accuracy: 0.7310 - val_loss: 0.2385 - val_accuracy: 0.9384 - lr: 0.0010\n",
            "Epoch 4/50\n",
            "313/313 [==============================] - 3s 9ms/step - loss: 0.6720 - accuracy: 0.7758 - val_loss: 0.2707 - val_accuracy: 0.9149 - lr: 0.0010\n",
            "Epoch 5/50\n",
            "313/313 [==============================] - 4s 12ms/step - loss: 0.5898 - accuracy: 0.8050 - val_loss: 0.1817 - val_accuracy: 0.9393 - lr: 0.0010\n",
            "Epoch 6/50\n",
            "313/313 [==============================] - 4s 12ms/step - loss: 0.4840 - accuracy: 0.8425 - val_loss: 0.2566 - val_accuracy: 0.9181 - lr: 0.0010\n",
            "Epoch 7/50\n",
            "313/313 [==============================] - 3s 11ms/step - loss: 0.4375 - accuracy: 0.8542 - val_loss: 0.2015 - val_accuracy: 0.9380 - lr: 0.0010\n",
            "Epoch 8/50\n",
            "313/313 [==============================] - 3s 11ms/step - loss: 0.3876 - accuracy: 0.8726 - val_loss: 0.2208 - val_accuracy: 0.9291 - lr: 0.0010\n",
            "Epoch 9/50\n",
            "313/313 [==============================] - 4s 11ms/step - loss: 0.3438 - accuracy: 0.8828 - val_loss: 0.1624 - val_accuracy: 0.9488 - lr: 0.0010\n",
            "Epoch 10/50\n",
            "313/313 [==============================] - 3s 11ms/step - loss: 0.2965 - accuracy: 0.9001 - val_loss: 0.2351 - val_accuracy: 0.9303 - lr: 0.0010\n",
            "Epoch 11/50\n",
            "313/313 [==============================] - 3s 10ms/step - loss: 0.2765 - accuracy: 0.9088 - val_loss: 0.1792 - val_accuracy: 0.9461 - lr: 0.0010\n",
            "Epoch 12/50\n",
            "313/313 [==============================] - 3s 9ms/step - loss: 0.2800 - accuracy: 0.9041 - val_loss: 0.1561 - val_accuracy: 0.9522 - lr: 0.0010\n",
            "Epoch 13/50\n",
            "313/313 [==============================] - 3s 11ms/step - loss: 0.2453 - accuracy: 0.9194 - val_loss: 0.1594 - val_accuracy: 0.9529 - lr: 0.0010\n",
            "Epoch 14/50\n",
            "313/313 [==============================] - 4s 12ms/step - loss: 0.2049 - accuracy: 0.9306 - val_loss: 0.2296 - val_accuracy: 0.9346 - lr: 0.0010\n",
            "Epoch 15/50\n",
            "313/313 [==============================] - 3s 9ms/step - loss: 0.1939 - accuracy: 0.9342 - val_loss: 0.1637 - val_accuracy: 0.9511 - lr: 0.0010\n",
            "Epoch 16/50\n",
            "313/313 [==============================] - 3s 11ms/step - loss: 0.1841 - accuracy: 0.9368 - val_loss: 0.2413 - val_accuracy: 0.9363 - lr: 0.0010\n",
            "Epoch 17/50\n",
            "313/313 [==============================] - 3s 9ms/step - loss: 0.1724 - accuracy: 0.9401 - val_loss: 0.1753 - val_accuracy: 0.9501 - lr: 0.0010\n",
            "Epoch 18/50\n",
            "313/313 [==============================] - 3s 11ms/step - loss: 0.1304 - accuracy: 0.9554 - val_loss: 0.1948 - val_accuracy: 0.9495 - lr: 2.0000e-04\n",
            "Epoch 19/50\n",
            "313/313 [==============================] - 4s 12ms/step - loss: 0.1023 - accuracy: 0.9670 - val_loss: 0.1689 - val_accuracy: 0.9532 - lr: 2.0000e-04\n",
            "Epoch 20/50\n",
            "313/313 [==============================] - 3s 9ms/step - loss: 0.0908 - accuracy: 0.9696 - val_loss: 0.1856 - val_accuracy: 0.9492 - lr: 2.0000e-04\n"
          ]
        }
      ]
    },
    {
      "cell_type": "code",
      "source": [
        "# 1. Оценка точности model_simple на тестовых данных\n",
        "test_loss, test_acc = model_simple.evaluate(x_test, y_test_ohe)\n",
        "print(\"Точность model_simple на тестовых данных:\", test_acc)"
      ],
      "metadata": {
        "colab": {
          "base_uri": "https://localhost:8080/"
        },
        "id": "x4_O11R8-fTj",
        "outputId": "e345a8da-80f7-47af-d732-31b9744dcb0f"
      },
      "execution_count": 45,
      "outputs": [
        {
          "output_type": "stream",
          "name": "stdout",
          "text": [
            "313/313 [==============================] - 1s 3ms/step - loss: 0.1561 - accuracy: 0.9522\n",
            "Точность model_simple на тестовых данных: 0.9521999955177307\n"
          ]
        }
      ]
    },
    {
      "cell_type": "code",
      "source": [
        "# 2. Обучение model_standart_aug с аугментацией данных\n",
        "# Использование функции для создания модели\n",
        "model_standart_aug = create_cnn_model()\n",
        "# Компиляция модели\n",
        "model_standart_aug.compile(optimizer=Adam(learning_rate=0.001),\n",
        "              loss='categorical_crossentropy',\n",
        "              metrics=['accuracy'])\n",
        "\n",
        "# Каллбеки\n",
        "reduce_lr = ReduceLROnPlateau(monitor='val_loss', factor=0.2, patience=5, min_lr=0.0001)\n",
        "early_stop = EarlyStopping(monitor='val_loss', patience=8, restore_best_weights=True)\n",
        "model_checkpoint = ModelCheckpoint('best_model.h5', monitor='val_loss', save_best_only=True)\n",
        "\n",
        "history_standart_aug = model_standart_aug.fit(datagen.flow(x_val, y_val_ohe, batch_size=32),\n",
        "                                              epochs=100,\n",
        "                                              validation_data=(x_test, y_test_ohe),\n",
        "                                              callbacks=[reduce_lr, early_stop, model_checkpoint])"
      ],
      "metadata": {
        "colab": {
          "base_uri": "https://localhost:8080/"
        },
        "id": "P1W7IShh-oEh",
        "outputId": "3f4233c0-46e8-4e6e-c3a5-eba4554ea865"
      },
      "execution_count": 28,
      "outputs": [
        {
          "output_type": "stream",
          "name": "stdout",
          "text": [
            "Epoch 1/100\n",
            "313/313 [==============================] - 11s 23ms/step - loss: 0.6811 - accuracy: 0.7875 - val_loss: 5.9580 - val_accuracy: 0.1160 - lr: 0.0010\n"
          ]
        },
        {
          "output_type": "stream",
          "name": "stderr",
          "text": [
            "/usr/local/lib/python3.10/dist-packages/keras/src/engine/training.py:3103: UserWarning: You are saving your model as an HDF5 file via `model.save()`. This file format is considered legacy. We recommend using instead the native Keras format, e.g. `model.save('my_model.keras')`.\n",
            "  saving_api.save_model(\n"
          ]
        },
        {
          "output_type": "stream",
          "name": "stdout",
          "text": [
            "Epoch 2/100\n",
            "313/313 [==============================] - 7s 23ms/step - loss: 0.2714 - accuracy: 0.9140 - val_loss: 0.0925 - val_accuracy: 0.9710 - lr: 0.0010\n",
            "Epoch 3/100\n",
            "313/313 [==============================] - 7s 22ms/step - loss: 0.2028 - accuracy: 0.9401 - val_loss: 0.0559 - val_accuracy: 0.9817 - lr: 0.0010\n",
            "Epoch 4/100\n",
            "313/313 [==============================] - 7s 21ms/step - loss: 0.1652 - accuracy: 0.9498 - val_loss: 0.0479 - val_accuracy: 0.9839 - lr: 0.0010\n",
            "Epoch 5/100\n",
            "313/313 [==============================] - 6s 20ms/step - loss: 0.1503 - accuracy: 0.9558 - val_loss: 0.0388 - val_accuracy: 0.9891 - lr: 0.0010\n",
            "Epoch 6/100\n",
            "313/313 [==============================] - 8s 25ms/step - loss: 0.1279 - accuracy: 0.9621 - val_loss: 0.0345 - val_accuracy: 0.9883 - lr: 0.0010\n",
            "Epoch 7/100\n",
            "313/313 [==============================] - 6s 18ms/step - loss: 0.1247 - accuracy: 0.9632 - val_loss: 0.0342 - val_accuracy: 0.9892 - lr: 0.0010\n",
            "Epoch 8/100\n",
            "313/313 [==============================] - 7s 22ms/step - loss: 0.1118 - accuracy: 0.9678 - val_loss: 0.0363 - val_accuracy: 0.9879 - lr: 0.0010\n",
            "Epoch 9/100\n",
            "313/313 [==============================] - 7s 22ms/step - loss: 0.1213 - accuracy: 0.9629 - val_loss: 0.0363 - val_accuracy: 0.9875 - lr: 0.0010\n",
            "Epoch 10/100\n",
            "313/313 [==============================] - 9s 28ms/step - loss: 0.0945 - accuracy: 0.9712 - val_loss: 0.0286 - val_accuracy: 0.9904 - lr: 0.0010\n",
            "Epoch 11/100\n",
            "313/313 [==============================] - 7s 22ms/step - loss: 0.0936 - accuracy: 0.9717 - val_loss: 0.0461 - val_accuracy: 0.9855 - lr: 0.0010\n",
            "Epoch 12/100\n",
            "313/313 [==============================] - 9s 29ms/step - loss: 0.1001 - accuracy: 0.9705 - val_loss: 0.0362 - val_accuracy: 0.9878 - lr: 0.0010\n",
            "Epoch 13/100\n",
            "313/313 [==============================] - 6s 20ms/step - loss: 0.0816 - accuracy: 0.9749 - val_loss: 0.0261 - val_accuracy: 0.9919 - lr: 0.0010\n",
            "Epoch 14/100\n",
            "313/313 [==============================] - 8s 25ms/step - loss: 0.0811 - accuracy: 0.9745 - val_loss: 0.0273 - val_accuracy: 0.9905 - lr: 0.0010\n",
            "Epoch 15/100\n",
            "313/313 [==============================] - 6s 21ms/step - loss: 0.0799 - accuracy: 0.9741 - val_loss: 0.0328 - val_accuracy: 0.9886 - lr: 0.0010\n",
            "Epoch 16/100\n",
            "313/313 [==============================] - 9s 28ms/step - loss: 0.0881 - accuracy: 0.9731 - val_loss: 0.0244 - val_accuracy: 0.9922 - lr: 0.0010\n",
            "Epoch 17/100\n",
            "313/313 [==============================] - 7s 23ms/step - loss: 0.0805 - accuracy: 0.9749 - val_loss: 0.0300 - val_accuracy: 0.9896 - lr: 0.0010\n",
            "Epoch 18/100\n",
            "313/313 [==============================] - 9s 29ms/step - loss: 0.0740 - accuracy: 0.9758 - val_loss: 0.0310 - val_accuracy: 0.9892 - lr: 0.0010\n",
            "Epoch 19/100\n",
            "313/313 [==============================] - 10s 31ms/step - loss: 0.0775 - accuracy: 0.9768 - val_loss: 0.0249 - val_accuracy: 0.9925 - lr: 0.0010\n",
            "Epoch 20/100\n",
            "313/313 [==============================] - 6s 20ms/step - loss: 0.0698 - accuracy: 0.9786 - val_loss: 0.0640 - val_accuracy: 0.9797 - lr: 0.0010\n",
            "Epoch 21/100\n",
            "313/313 [==============================] - 6s 20ms/step - loss: 0.0748 - accuracy: 0.9777 - val_loss: 0.0261 - val_accuracy: 0.9918 - lr: 0.0010\n",
            "Epoch 22/100\n",
            "313/313 [==============================] - 6s 19ms/step - loss: 0.0613 - accuracy: 0.9809 - val_loss: 0.0174 - val_accuracy: 0.9951 - lr: 2.0000e-04\n",
            "Epoch 23/100\n",
            "313/313 [==============================] - 8s 24ms/step - loss: 0.0536 - accuracy: 0.9835 - val_loss: 0.0168 - val_accuracy: 0.9943 - lr: 2.0000e-04\n",
            "Epoch 24/100\n",
            "313/313 [==============================] - 6s 20ms/step - loss: 0.0503 - accuracy: 0.9845 - val_loss: 0.0166 - val_accuracy: 0.9950 - lr: 2.0000e-04\n",
            "Epoch 25/100\n",
            "313/313 [==============================] - 7s 22ms/step - loss: 0.0516 - accuracy: 0.9850 - val_loss: 0.0169 - val_accuracy: 0.9950 - lr: 2.0000e-04\n",
            "Epoch 26/100\n",
            "313/313 [==============================] - 8s 24ms/step - loss: 0.0442 - accuracy: 0.9856 - val_loss: 0.0156 - val_accuracy: 0.9955 - lr: 2.0000e-04\n",
            "Epoch 27/100\n",
            "313/313 [==============================] - 7s 21ms/step - loss: 0.0450 - accuracy: 0.9855 - val_loss: 0.0182 - val_accuracy: 0.9941 - lr: 2.0000e-04\n",
            "Epoch 28/100\n",
            "313/313 [==============================] - 7s 22ms/step - loss: 0.0401 - accuracy: 0.9867 - val_loss: 0.0170 - val_accuracy: 0.9946 - lr: 2.0000e-04\n",
            "Epoch 29/100\n",
            "313/313 [==============================] - 7s 22ms/step - loss: 0.0375 - accuracy: 0.9882 - val_loss: 0.0173 - val_accuracy: 0.9950 - lr: 2.0000e-04\n",
            "Epoch 30/100\n",
            "313/313 [==============================] - 6s 20ms/step - loss: 0.0396 - accuracy: 0.9871 - val_loss: 0.0164 - val_accuracy: 0.9948 - lr: 2.0000e-04\n",
            "Epoch 31/100\n",
            "313/313 [==============================] - 7s 23ms/step - loss: 0.0426 - accuracy: 0.9873 - val_loss: 0.0171 - val_accuracy: 0.9946 - lr: 2.0000e-04\n",
            "Epoch 32/100\n",
            "313/313 [==============================] - 6s 19ms/step - loss: 0.0356 - accuracy: 0.9892 - val_loss: 0.0180 - val_accuracy: 0.9944 - lr: 1.0000e-04\n",
            "Epoch 33/100\n",
            "313/313 [==============================] - 6s 21ms/step - loss: 0.0325 - accuracy: 0.9899 - val_loss: 0.0158 - val_accuracy: 0.9952 - lr: 1.0000e-04\n",
            "Epoch 34/100\n",
            "313/313 [==============================] - 7s 23ms/step - loss: 0.0307 - accuracy: 0.9903 - val_loss: 0.0174 - val_accuracy: 0.9943 - lr: 1.0000e-04\n"
          ]
        }
      ]
    },
    {
      "cell_type": "code",
      "source": [
        "# 3. Оценка точности model_standart_aug на тестовых данных\n",
        "test_loss_aug, test_acc_aug = model_standart_aug.evaluate(x_test, y_test_ohe)\n",
        "print(\"Точность model_standart_aug на тестовых данных:\", test_acc_aug)\n"
      ],
      "metadata": {
        "colab": {
          "base_uri": "https://localhost:8080/"
        },
        "id": "tw-mkhP5-rTq",
        "outputId": "8107fc15-f0b1-4d1a-d3de-39332552e917"
      },
      "execution_count": 29,
      "outputs": [
        {
          "output_type": "stream",
          "name": "stdout",
          "text": [
            "313/313 [==============================] - 1s 4ms/step - loss: 0.0156 - accuracy: 0.9955\n",
            "Точность model_standart_aug на тестовых данных: 0.9955000281333923\n"
          ]
        }
      ]
    },
    {
      "cell_type": "code",
      "source": [
        "# Объединение и обучение model_new_aug\n",
        "# Объединение наборов данных\n",
        "x_val_combined = np.concatenate((x_val_medium, x_val_easy))\n",
        "# Дублирование и объединение меток\n",
        "y_val_combined = np.tile(y_val_ohe, (2, 1))\n",
        "\n",
        "# Перемешивание данных\n",
        "x_val_combined, y_val_combined = shuffle(x_val_combined, y_val_combined, random_state=42)"
      ],
      "metadata": {
        "id": "4mLTxecw-tpr"
      },
      "execution_count": 46,
      "outputs": []
    },
    {
      "cell_type": "code",
      "source": [
        "# 4. Обучение model_new_aug\n",
        "model_new_aug = create_cnn_model()\n",
        "# Компиляция модели\n",
        "model_new_aug.compile(optimizer=Adam(learning_rate=0.001),\n",
        "              loss='categorical_crossentropy',\n",
        "              metrics=['accuracy'])\n",
        "\n",
        "# Каллбеки\n",
        "reduce_lr = ReduceLROnPlateau(monitor='val_loss', factor=0.2, patience=5, min_lr=0.0001)\n",
        "early_stop = EarlyStopping(monitor='val_loss', patience=8, restore_best_weights=True)\n",
        "model_checkpoint = ModelCheckpoint('best_model.h5', monitor='val_loss', save_best_only=True)\n",
        "\n",
        "\n",
        "# Обучение модели на оригинальных данных\n",
        "history = model_new_aug.fit(x_val_combined, y_val_combined,\n",
        "                           batch_size=32,\n",
        "                           epochs=50,\n",
        "                           validation_data=(x_test, y_test_ohe),\n",
        "                           callbacks=[reduce_lr, early_stop, model_checkpoint])\n",
        "\n"
      ],
      "metadata": {
        "colab": {
          "base_uri": "https://localhost:8080/"
        },
        "id": "WIKbT6GfHtWv",
        "outputId": "b055887a-141f-40e9-9f2e-34f6aabbd5f1"
      },
      "execution_count": 47,
      "outputs": [
        {
          "output_type": "stream",
          "name": "stdout",
          "text": [
            "Epoch 1/50\n",
            "625/625 [==============================] - 9s 9ms/step - loss: 0.3587 - accuracy: 0.8881 - val_loss: 0.1138 - val_accuracy: 0.9639 - lr: 0.0010\n",
            "Epoch 2/50\n",
            " 10/625 [..............................] - ETA: 3s - loss: 0.2321 - accuracy: 0.9281"
          ]
        },
        {
          "output_type": "stream",
          "name": "stderr",
          "text": [
            "/usr/local/lib/python3.10/dist-packages/keras/src/engine/training.py:3103: UserWarning: You are saving your model as an HDF5 file via `model.save()`. This file format is considered legacy. We recommend using instead the native Keras format, e.g. `model.save('my_model.keras')`.\n",
            "  saving_api.save_model(\n"
          ]
        },
        {
          "output_type": "stream",
          "name": "stdout",
          "text": [
            "625/625 [==============================] - 5s 7ms/step - loss: 0.1512 - accuracy: 0.9547 - val_loss: 0.0521 - val_accuracy: 0.9818 - lr: 0.0010\n",
            "Epoch 3/50\n",
            "625/625 [==============================] - 6s 10ms/step - loss: 0.1173 - accuracy: 0.9637 - val_loss: 0.0398 - val_accuracy: 0.9872 - lr: 0.0010\n",
            "Epoch 4/50\n",
            "625/625 [==============================] - 4s 7ms/step - loss: 0.0876 - accuracy: 0.9715 - val_loss: 0.0600 - val_accuracy: 0.9820 - lr: 0.0010\n",
            "Epoch 5/50\n",
            "625/625 [==============================] - 5s 8ms/step - loss: 0.0835 - accuracy: 0.9735 - val_loss: 0.0472 - val_accuracy: 0.9837 - lr: 0.0010\n",
            "Epoch 6/50\n",
            "625/625 [==============================] - 6s 9ms/step - loss: 0.0727 - accuracy: 0.9776 - val_loss: 0.0451 - val_accuracy: 0.9845 - lr: 0.0010\n",
            "Epoch 7/50\n",
            "625/625 [==============================] - 5s 7ms/step - loss: 0.0628 - accuracy: 0.9794 - val_loss: 0.1005 - val_accuracy: 0.9767 - lr: 0.0010\n",
            "Epoch 8/50\n",
            "625/625 [==============================] - 5s 8ms/step - loss: 0.0528 - accuracy: 0.9830 - val_loss: 0.0506 - val_accuracy: 0.9851 - lr: 0.0010\n",
            "Epoch 9/50\n",
            "625/625 [==============================] - 6s 10ms/step - loss: 0.0354 - accuracy: 0.9884 - val_loss: 0.0346 - val_accuracy: 0.9885 - lr: 2.0000e-04\n",
            "Epoch 10/50\n",
            "625/625 [==============================] - 5s 7ms/step - loss: 0.0269 - accuracy: 0.9909 - val_loss: 0.0302 - val_accuracy: 0.9909 - lr: 2.0000e-04\n",
            "Epoch 11/50\n",
            "625/625 [==============================] - 5s 8ms/step - loss: 0.0187 - accuracy: 0.9945 - val_loss: 0.0328 - val_accuracy: 0.9897 - lr: 2.0000e-04\n",
            "Epoch 12/50\n",
            "625/625 [==============================] - 6s 9ms/step - loss: 0.0165 - accuracy: 0.9952 - val_loss: 0.0313 - val_accuracy: 0.9903 - lr: 2.0000e-04\n",
            "Epoch 13/50\n",
            "625/625 [==============================] - 5s 7ms/step - loss: 0.0138 - accuracy: 0.9962 - val_loss: 0.0298 - val_accuracy: 0.9909 - lr: 2.0000e-04\n",
            "Epoch 14/50\n",
            "625/625 [==============================] - 6s 9ms/step - loss: 0.0150 - accuracy: 0.9952 - val_loss: 0.0298 - val_accuracy: 0.9906 - lr: 2.0000e-04\n",
            "Epoch 15/50\n",
            "625/625 [==============================] - 5s 8ms/step - loss: 0.0145 - accuracy: 0.9952 - val_loss: 0.0310 - val_accuracy: 0.9904 - lr: 2.0000e-04\n",
            "Epoch 16/50\n",
            "625/625 [==============================] - 4s 7ms/step - loss: 0.0117 - accuracy: 0.9966 - val_loss: 0.0304 - val_accuracy: 0.9909 - lr: 2.0000e-04\n",
            "Epoch 17/50\n",
            "625/625 [==============================] - 6s 9ms/step - loss: 0.0101 - accuracy: 0.9969 - val_loss: 0.0358 - val_accuracy: 0.9896 - lr: 2.0000e-04\n",
            "Epoch 18/50\n",
            "625/625 [==============================] - 5s 8ms/step - loss: 0.0106 - accuracy: 0.9966 - val_loss: 0.0340 - val_accuracy: 0.9905 - lr: 2.0000e-04\n",
            "Epoch 19/50\n",
            "625/625 [==============================] - 5s 8ms/step - loss: 0.0086 - accuracy: 0.9977 - val_loss: 0.0319 - val_accuracy: 0.9904 - lr: 1.0000e-04\n",
            "Epoch 20/50\n",
            "625/625 [==============================] - 6s 9ms/step - loss: 0.0087 - accuracy: 0.9976 - val_loss: 0.0318 - val_accuracy: 0.9911 - lr: 1.0000e-04\n",
            "Epoch 21/50\n",
            "625/625 [==============================] - 5s 8ms/step - loss: 0.0067 - accuracy: 0.9983 - val_loss: 0.0309 - val_accuracy: 0.9907 - lr: 1.0000e-04\n",
            "Epoch 22/50\n",
            "625/625 [==============================] - 5s 8ms/step - loss: 0.0056 - accuracy: 0.9986 - val_loss: 0.0341 - val_accuracy: 0.9906 - lr: 1.0000e-04\n"
          ]
        }
      ]
    },
    {
      "cell_type": "code",
      "source": [
        "# Оценка точности model_new_aug на тестовых данных\n",
        "test_loss_new_aug, test_acc_new_aug = model_new_aug.evaluate(x_test, y_test_ohe)\n",
        "print(\"Точность model_new_aug на тестовых данных:\", test_acc_new_aug)"
      ],
      "metadata": {
        "colab": {
          "base_uri": "https://localhost:8080/"
        },
        "id": "N123os_wIFNF",
        "outputId": "d3da95d8-0287-4fc1-a1b1-3071dbfef70a"
      },
      "execution_count": 48,
      "outputs": [
        {
          "output_type": "stream",
          "name": "stdout",
          "text": [
            "313/313 [==============================] - 1s 3ms/step - loss: 0.0298 - accuracy: 0.9906\n",
            "Точность model_new_aug на тестовых данных: 0.9905999898910522\n"
          ]
        }
      ]
    },
    {
      "cell_type": "code",
      "source": [
        "# Использование функции для создания модели\n",
        "model_new_aug2 = create_cnn_model()\n",
        "# Компиляция модели\n",
        "model_new_aug2.compile(optimizer=Adam(learning_rate=0.001),\n",
        "              loss='categorical_crossentropy',\n",
        "              metrics=['accuracy'])\n",
        "\n",
        "# Каллбеки\n",
        "reduce_lr = ReduceLROnPlateau(monitor='val_loss', factor=0.2, patience=5, min_lr=0.0001)\n",
        "early_stop = EarlyStopping(monitor='val_loss', patience=8, restore_best_weights=True)\n",
        "model_checkpoint = ModelCheckpoint('best_model.h5', monitor='val_loss', save_best_only=True)\n",
        "# Обучение model_new_aug на объединенных данных\n",
        "history_new_aug2 = model_new_aug2.fit(datagen.flow(x_val_combined, y_val_combined, batch_size=32),\n",
        "                                              epochs=100,\n",
        "                                              validation_data=(x_test, y_test_ohe),\n",
        "                                              callbacks=[reduce_lr, early_stop, model_checkpoint])"
      ],
      "metadata": {
        "colab": {
          "base_uri": "https://localhost:8080/"
        },
        "id": "_xsdJGf--zqD",
        "outputId": "5fd16432-a69c-444d-97db-c192c318d626"
      },
      "execution_count": 33,
      "outputs": [
        {
          "output_type": "stream",
          "name": "stdout",
          "text": [
            "Epoch 1/100\n",
            "625/625 [==============================] - 15s 18ms/step - loss: 0.6221 - accuracy: 0.8084 - val_loss: 0.0823 - val_accuracy: 0.9755 - lr: 0.0010\n",
            "Epoch 2/100\n",
            "625/625 [==============================] - 13s 20ms/step - loss: 0.2710 - accuracy: 0.9173 - val_loss: 0.0520 - val_accuracy: 0.9830 - lr: 0.0010\n",
            "Epoch 3/100\n",
            "625/625 [==============================] - 12s 19ms/step - loss: 0.2116 - accuracy: 0.9355 - val_loss: 0.0518 - val_accuracy: 0.9830 - lr: 0.0010\n",
            "Epoch 4/100\n",
            "625/625 [==============================] - 11s 18ms/step - loss: 0.1986 - accuracy: 0.9378 - val_loss: 0.0479 - val_accuracy: 0.9840 - lr: 0.0010\n",
            "Epoch 5/100\n",
            "625/625 [==============================] - 13s 20ms/step - loss: 0.1666 - accuracy: 0.9483 - val_loss: 0.0300 - val_accuracy: 0.9895 - lr: 0.0010\n",
            "Epoch 6/100\n",
            "625/625 [==============================] - 11s 17ms/step - loss: 0.1538 - accuracy: 0.9521 - val_loss: 0.0460 - val_accuracy: 0.9849 - lr: 0.0010\n",
            "Epoch 7/100\n",
            "625/625 [==============================] - 13s 20ms/step - loss: 0.1451 - accuracy: 0.9553 - val_loss: 0.0309 - val_accuracy: 0.9893 - lr: 0.0010\n",
            "Epoch 8/100\n",
            "625/625 [==============================] - 12s 19ms/step - loss: 0.1404 - accuracy: 0.9564 - val_loss: 0.0315 - val_accuracy: 0.9905 - lr: 0.0010\n",
            "Epoch 9/100\n",
            "625/625 [==============================] - 13s 20ms/step - loss: 0.1262 - accuracy: 0.9611 - val_loss: 0.0268 - val_accuracy: 0.9914 - lr: 0.0010\n",
            "Epoch 10/100\n",
            "625/625 [==============================] - 13s 21ms/step - loss: 0.1307 - accuracy: 0.9586 - val_loss: 0.0317 - val_accuracy: 0.9904 - lr: 0.0010\n",
            "Epoch 11/100\n",
            "625/625 [==============================] - 12s 19ms/step - loss: 0.1219 - accuracy: 0.9615 - val_loss: 0.0311 - val_accuracy: 0.9903 - lr: 0.0010\n",
            "Epoch 12/100\n",
            "625/625 [==============================] - 13s 20ms/step - loss: 0.1084 - accuracy: 0.9656 - val_loss: 0.0242 - val_accuracy: 0.9921 - lr: 0.0010\n",
            "Epoch 13/100\n",
            "625/625 [==============================] - 11s 17ms/step - loss: 0.1104 - accuracy: 0.9647 - val_loss: 0.0274 - val_accuracy: 0.9914 - lr: 0.0010\n",
            "Epoch 14/100\n",
            "625/625 [==============================] - 12s 19ms/step - loss: 0.1008 - accuracy: 0.9699 - val_loss: 0.0275 - val_accuracy: 0.9915 - lr: 0.0010\n",
            "Epoch 15/100\n",
            "625/625 [==============================] - 12s 19ms/step - loss: 0.0940 - accuracy: 0.9700 - val_loss: 0.0291 - val_accuracy: 0.9908 - lr: 0.0010\n",
            "Epoch 16/100\n",
            "625/625 [==============================] - 12s 19ms/step - loss: 0.0913 - accuracy: 0.9711 - val_loss: 0.0252 - val_accuracy: 0.9920 - lr: 0.0010\n",
            "Epoch 17/100\n",
            "625/625 [==============================] - 12s 19ms/step - loss: 0.0937 - accuracy: 0.9721 - val_loss: 0.0235 - val_accuracy: 0.9921 - lr: 0.0010\n",
            "Epoch 18/100\n",
            "625/625 [==============================] - 13s 21ms/step - loss: 0.0859 - accuracy: 0.9729 - val_loss: 0.0235 - val_accuracy: 0.9918 - lr: 0.0010\n",
            "Epoch 19/100\n",
            "625/625 [==============================] - 13s 21ms/step - loss: 0.0878 - accuracy: 0.9733 - val_loss: 0.0218 - val_accuracy: 0.9921 - lr: 0.0010\n",
            "Epoch 20/100\n",
            "625/625 [==============================] - 12s 20ms/step - loss: 0.0771 - accuracy: 0.9755 - val_loss: 0.0240 - val_accuracy: 0.9923 - lr: 0.0010\n",
            "Epoch 21/100\n",
            "625/625 [==============================] - 11s 18ms/step - loss: 0.0801 - accuracy: 0.9753 - val_loss: 0.0207 - val_accuracy: 0.9931 - lr: 0.0010\n",
            "Epoch 22/100\n",
            "625/625 [==============================] - 12s 18ms/step - loss: 0.0715 - accuracy: 0.9773 - val_loss: 0.0304 - val_accuracy: 0.9906 - lr: 0.0010\n",
            "Epoch 23/100\n",
            "625/625 [==============================] - 13s 21ms/step - loss: 0.0781 - accuracy: 0.9752 - val_loss: 0.0272 - val_accuracy: 0.9905 - lr: 0.0010\n",
            "Epoch 24/100\n",
            "625/625 [==============================] - 13s 21ms/step - loss: 0.0779 - accuracy: 0.9751 - val_loss: 0.0242 - val_accuracy: 0.9922 - lr: 0.0010\n",
            "Epoch 25/100\n",
            "625/625 [==============================] - 12s 20ms/step - loss: 0.0745 - accuracy: 0.9761 - val_loss: 0.0193 - val_accuracy: 0.9939 - lr: 0.0010\n",
            "Epoch 26/100\n",
            "625/625 [==============================] - 11s 17ms/step - loss: 0.0723 - accuracy: 0.9778 - val_loss: 0.0272 - val_accuracy: 0.9916 - lr: 0.0010\n",
            "Epoch 27/100\n",
            "625/625 [==============================] - 12s 19ms/step - loss: 0.0744 - accuracy: 0.9760 - val_loss: 0.0211 - val_accuracy: 0.9937 - lr: 0.0010\n",
            "Epoch 28/100\n",
            "625/625 [==============================] - 13s 20ms/step - loss: 0.0676 - accuracy: 0.9787 - val_loss: 0.0290 - val_accuracy: 0.9898 - lr: 0.0010\n",
            "Epoch 29/100\n",
            "625/625 [==============================] - 11s 18ms/step - loss: 0.0659 - accuracy: 0.9793 - val_loss: 0.0215 - val_accuracy: 0.9928 - lr: 0.0010\n",
            "Epoch 30/100\n",
            "625/625 [==============================] - 12s 19ms/step - loss: 0.0691 - accuracy: 0.9788 - val_loss: 0.0206 - val_accuracy: 0.9931 - lr: 0.0010\n",
            "Epoch 31/100\n",
            "625/625 [==============================] - 18s 28ms/step - loss: 0.0578 - accuracy: 0.9823 - val_loss: 0.0197 - val_accuracy: 0.9935 - lr: 2.0000e-04\n",
            "Epoch 32/100\n",
            "625/625 [==============================] - 12s 18ms/step - loss: 0.0480 - accuracy: 0.9845 - val_loss: 0.0185 - val_accuracy: 0.9940 - lr: 2.0000e-04\n",
            "Epoch 33/100\n",
            "625/625 [==============================] - 12s 20ms/step - loss: 0.0507 - accuracy: 0.9844 - val_loss: 0.0190 - val_accuracy: 0.9936 - lr: 2.0000e-04\n",
            "Epoch 34/100\n",
            "625/625 [==============================] - 13s 20ms/step - loss: 0.0451 - accuracy: 0.9865 - val_loss: 0.0197 - val_accuracy: 0.9939 - lr: 2.0000e-04\n",
            "Epoch 35/100\n",
            "625/625 [==============================] - 12s 20ms/step - loss: 0.0440 - accuracy: 0.9855 - val_loss: 0.0179 - val_accuracy: 0.9942 - lr: 2.0000e-04\n",
            "Epoch 36/100\n",
            "625/625 [==============================] - 11s 17ms/step - loss: 0.0450 - accuracy: 0.9859 - val_loss: 0.0183 - val_accuracy: 0.9947 - lr: 2.0000e-04\n",
            "Epoch 37/100\n",
            "625/625 [==============================] - 13s 20ms/step - loss: 0.0446 - accuracy: 0.9861 - val_loss: 0.0181 - val_accuracy: 0.9944 - lr: 2.0000e-04\n",
            "Epoch 38/100\n",
            "625/625 [==============================] - 12s 20ms/step - loss: 0.0414 - accuracy: 0.9867 - val_loss: 0.0193 - val_accuracy: 0.9943 - lr: 2.0000e-04\n",
            "Epoch 39/100\n",
            "625/625 [==============================] - 11s 18ms/step - loss: 0.0384 - accuracy: 0.9875 - val_loss: 0.0202 - val_accuracy: 0.9935 - lr: 2.0000e-04\n",
            "Epoch 40/100\n",
            "625/625 [==============================] - 13s 20ms/step - loss: 0.0421 - accuracy: 0.9870 - val_loss: 0.0189 - val_accuracy: 0.9940 - lr: 2.0000e-04\n",
            "Epoch 41/100\n",
            "625/625 [==============================] - 11s 18ms/step - loss: 0.0373 - accuracy: 0.9883 - val_loss: 0.0179 - val_accuracy: 0.9945 - lr: 1.0000e-04\n",
            "Epoch 42/100\n",
            "625/625 [==============================] - 12s 20ms/step - loss: 0.0383 - accuracy: 0.9880 - val_loss: 0.0186 - val_accuracy: 0.9940 - lr: 1.0000e-04\n",
            "Epoch 43/100\n",
            "625/625 [==============================] - 13s 20ms/step - loss: 0.0370 - accuracy: 0.9876 - val_loss: 0.0180 - val_accuracy: 0.9942 - lr: 1.0000e-04\n",
            "Epoch 44/100\n",
            "625/625 [==============================] - 11s 18ms/step - loss: 0.0378 - accuracy: 0.9881 - val_loss: 0.0181 - val_accuracy: 0.9942 - lr: 1.0000e-04\n",
            "Epoch 45/100\n",
            "625/625 [==============================] - 11s 18ms/step - loss: 0.0381 - accuracy: 0.9882 - val_loss: 0.0176 - val_accuracy: 0.9941 - lr: 1.0000e-04\n",
            "Epoch 46/100\n",
            "625/625 [==============================] - 13s 21ms/step - loss: 0.0351 - accuracy: 0.9882 - val_loss: 0.0174 - val_accuracy: 0.9941 - lr: 1.0000e-04\n",
            "Epoch 47/100\n",
            "625/625 [==============================] - 13s 20ms/step - loss: 0.0370 - accuracy: 0.9884 - val_loss: 0.0173 - val_accuracy: 0.9942 - lr: 1.0000e-04\n",
            "Epoch 48/100\n",
            "625/625 [==============================] - 12s 19ms/step - loss: 0.0335 - accuracy: 0.9892 - val_loss: 0.0175 - val_accuracy: 0.9944 - lr: 1.0000e-04\n",
            "Epoch 49/100\n",
            "625/625 [==============================] - 13s 20ms/step - loss: 0.0399 - accuracy: 0.9879 - val_loss: 0.0183 - val_accuracy: 0.9944 - lr: 1.0000e-04\n",
            "Epoch 50/100\n",
            "625/625 [==============================] - 12s 20ms/step - loss: 0.0329 - accuracy: 0.9898 - val_loss: 0.0185 - val_accuracy: 0.9945 - lr: 1.0000e-04\n",
            "Epoch 51/100\n",
            "625/625 [==============================] - 14s 22ms/step - loss: 0.0355 - accuracy: 0.9888 - val_loss: 0.0187 - val_accuracy: 0.9938 - lr: 1.0000e-04\n",
            "Epoch 52/100\n",
            "625/625 [==============================] - 13s 21ms/step - loss: 0.0344 - accuracy: 0.9884 - val_loss: 0.0188 - val_accuracy: 0.9940 - lr: 1.0000e-04\n",
            "Epoch 53/100\n",
            "625/625 [==============================] - 13s 21ms/step - loss: 0.0372 - accuracy: 0.9883 - val_loss: 0.0176 - val_accuracy: 0.9941 - lr: 1.0000e-04\n",
            "Epoch 54/100\n",
            "625/625 [==============================] - 12s 19ms/step - loss: 0.0352 - accuracy: 0.9880 - val_loss: 0.0178 - val_accuracy: 0.9943 - lr: 1.0000e-04\n",
            "Epoch 55/100\n",
            "625/625 [==============================] - 11s 17ms/step - loss: 0.0326 - accuracy: 0.9897 - val_loss: 0.0183 - val_accuracy: 0.9939 - lr: 1.0000e-04\n"
          ]
        }
      ]
    },
    {
      "cell_type": "code",
      "source": [
        "# Оценка точности model_new_aug2 на тестовых данных\n",
        "test_loss_new_aug, test_acc_new_aug = model_new_aug2.evaluate(x_test, y_test_ohe)\n",
        "print(\"Точность model_new_aug на тестовых данных:\", test_acc_new_aug)"
      ],
      "metadata": {
        "colab": {
          "base_uri": "https://localhost:8080/"
        },
        "id": "VcumKZSYEu7O",
        "outputId": "f2d99346-f605-488f-9f1d-1361cb243e57"
      },
      "execution_count": 36,
      "outputs": [
        {
          "output_type": "stream",
          "name": "stdout",
          "text": [
            "313/313 [==============================] - 1s 3ms/step - loss: 0.0173 - accuracy: 0.9942\n",
            "Точность model_new_aug на тестовых данных: 0.9941999912261963\n"
          ]
        }
      ]
    },
    {
      "cell_type": "code",
      "source": [
        "def evaluate_model(model, x_val_easy, x_val_medium, x_val_hard, x_val_indistinguishable):\n",
        "    # Оценка точности на легких данных\n",
        "    loss_easy, accuracy_easy = model.evaluate(x_val_easy, y_val_ohe)\n",
        "    print(\"Точность на легких данных:\", accuracy_easy)\n",
        "\n",
        "    # Оценка точности на средних данных\n",
        "    loss_medium, accuracy_medium = model.evaluate(x_val_medium, y_val_ohe)\n",
        "    print(\"Точность на средних данных:\", accuracy_medium)\n",
        "\n",
        "    # Оценка точности на сложных данных\n",
        "    loss_hard, accuracy_hard = model.evaluate(x_val_hard, y_val_ohe)\n",
        "    print(\"Точность на сложных данных:\", accuracy_hard)\n",
        "\n",
        "    # Оценка точности на данных, которые сложно отличить\n",
        "    loss_indistinguishable, accuracy_indistinguishable = model.evaluate(x_val_indistinguishable, y_val_ohe)\n",
        "    print(\"Точность на данных, которые сложно отличить:\", accuracy_indistinguishable)\n",
        "\n",
        "    return accuracy_easy, accuracy_medium, accuracy_hard, accuracy_indistinguishable\n",
        "\n",
        "\n"
      ],
      "metadata": {
        "id": "AD55eBQNQ2VX"
      },
      "execution_count": 51,
      "outputs": []
    },
    {
      "cell_type": "code",
      "source": [
        "# Пример использования функции\n",
        "evaluate_model(model_new_aug, x_val_easy, x_val_medium, x_val_hard, x_val_indistinguishable)"
      ],
      "metadata": {
        "colab": {
          "base_uri": "https://localhost:8080/"
        },
        "id": "YWHbCDSpQ4tb",
        "outputId": "8fda9c17-b35c-4bb9-a7ba-8109d921f499"
      },
      "execution_count": 56,
      "outputs": [
        {
          "output_type": "stream",
          "name": "stdout",
          "text": [
            "313/313 [==============================] - 1s 4ms/step - loss: 9.3510e-04 - accuracy: 0.9999\n",
            "Точность на легких данных: 0.9998999834060669\n",
            "313/313 [==============================] - 1s 3ms/step - loss: 0.0012 - accuracy: 1.0000\n",
            "Точность на средних данных: 1.0\n",
            "313/313 [==============================] - 1s 3ms/step - loss: 2.0468 - accuracy: 0.5665\n",
            "Точность на сложных данных: 0.5665000081062317\n",
            "313/313 [==============================] - 1s 3ms/step - loss: 7.0877 - accuracy: 0.1343\n",
            "Точность на данных, которые сложно отличить: 0.13429999351501465\n"
          ]
        },
        {
          "output_type": "execute_result",
          "data": {
            "text/plain": [
              "(0.9998999834060669, 1.0, 0.5665000081062317, 0.13429999351501465)"
            ]
          },
          "metadata": {},
          "execution_count": 56
        }
      ]
    }
  ]
}