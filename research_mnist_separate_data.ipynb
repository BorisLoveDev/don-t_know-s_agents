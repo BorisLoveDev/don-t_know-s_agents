{
  "nbformat": 4,
  "nbformat_minor": 0,
  "metadata": {
    "colab": {
      "provenance": [],
      "authorship_tag": "ABX9TyPsggBYufh3H1kIfEoYa2H7",
      "include_colab_link": true
    },
    "kernelspec": {
      "name": "python3",
      "display_name": "Python 3"
    },
    "language_info": {
      "name": "python"
    }
  },
  "cells": [
    {
      "cell_type": "markdown",
      "metadata": {
        "id": "view-in-github",
        "colab_type": "text"
      },
      "source": [
        "<a href=\"https://colab.research.google.com/github/BorisLoveDev/don-t_know-s_agents/blob/main/research_mnist_separate_data.ipynb\" target=\"_parent\"><img src=\"https://colab.research.google.com/assets/colab-badge.svg\" alt=\"Open In Colab\"/></a>"
      ]
    },
    {
      "cell_type": "code",
      "source": [
        "import numpy as np\n",
        "from tensorflow.keras.datasets import mnist\n",
        "from google.colab import drive\n",
        "import os"
      ],
      "metadata": {
        "id": "Uy6-9LKZomFD"
      },
      "execution_count": 1,
      "outputs": []
    },
    {
      "cell_type": "code",
      "source": [
        "# Монтирование Google Drive\n",
        "drive.mount('/content/drive')\n",
        "\n",
        "# Путь к папке для сохранения данных\n",
        "data_path = '/content/drive/My Drive/solo_research_aug_cnn/datasets'\n",
        "\n",
        "# Создание папки, если она не существует\n",
        "if not os.path.exists(data_path):\n",
        "    os.makedirs(data_path)\n"
      ],
      "metadata": {
        "colab": {
          "base_uri": "https://localhost:8080/"
        },
        "id": "lEwkmvVyooqN",
        "outputId": "c989510a-abc8-44dd-fd1c-e29aac040bb3"
      },
      "execution_count": 2,
      "outputs": [
        {
          "output_type": "stream",
          "name": "stdout",
          "text": [
            "Mounted at /content/drive\n"
          ]
        }
      ]
    },
    {
      "cell_type": "code",
      "execution_count": 3,
      "metadata": {
        "colab": {
          "base_uri": "https://localhost:8080/"
        },
        "id": "09AST-jon5-O",
        "outputId": "5ebd3024-e3e7-4cd5-a64a-de30b0359bea"
      },
      "outputs": [
        {
          "output_type": "stream",
          "name": "stdout",
          "text": [
            "Downloading data from https://storage.googleapis.com/tensorflow/tf-keras-datasets/mnist.npz\n",
            "11490434/11490434 [==============================] - 0s 0us/step\n",
            "Data saved successfully.\n"
          ]
        }
      ],
      "source": [
        "# Загрузка данных MNIST\n",
        "(x_train, y_train), (x_test, y_test) = mnist.load_data()\n",
        "\n",
        "# Предварительная обработка данных\n",
        "x_train = x_train.reshape((x_train.shape[0], 28, 28, 1)).astype('float32') / 255\n",
        "x_test = x_test.reshape((x_test.shape[0], 28, 28, 1)).astype('float32') / 255\n",
        "\n",
        "# Разделение на новый тренировочный и валидационный наборы\n",
        "num_val_samples_per_class = 1000\n",
        "num_classes = 10\n",
        "indices = [np.where(y_train == i)[0] for i in range(num_classes)]\n",
        "val_indices = np.hstack([np.random.choice(indices[i], num_val_samples_per_class, replace=False) for i in range(num_classes)])\n",
        "x_val = x_train[val_indices]\n",
        "y_val = y_train[val_indices]\n",
        "train_indices = np.setdiff1d(np.arange(len(x_train)), val_indices)\n",
        "x_train_new = x_train[train_indices]\n",
        "y_train_new = y_train[train_indices]\n",
        "\n",
        "# Сохранение данных в формате .npy на Google Drive\n",
        "np.save(os.path.join(data_path, 'x_train_new.npy'), x_train_new)\n",
        "np.save(os.path.join(data_path, 'y_train_new.npy'), y_train_new)\n",
        "np.save(os.path.join(data_path, 'x_val.npy'), x_val)\n",
        "np.save(os.path.join(data_path, 'y_val.npy'), y_val)\n",
        "np.save(os.path.join(data_path, 'x_test.npy'), x_test)\n",
        "np.save(os.path.join(data_path, 'y_test.npy'), y_test)\n",
        "\n",
        "print(\"Data saved successfully.\")"
      ]
    },
    {
      "cell_type": "code",
      "source": [
        "def print_class_distribution(y, dataset_name):\n",
        "    class_counts = np.bincount(y)\n",
        "    print(f\"Распределение классов в {dataset_name}:\")\n",
        "    for i, count in enumerate(class_counts):\n",
        "        print(f\"Класс {i}: {count} образцов\")\n",
        "\n",
        "# Вывод распределения классов для каждого набора данных\n",
        "print_class_distribution(y_train_new, \"новом тренировочном наборе\")\n",
        "print_class_distribution(y_val, \"валидационном наборе\")\n",
        "print_class_distribution(y_test, \"тестовом наборе\")"
      ],
      "metadata": {
        "colab": {
          "base_uri": "https://localhost:8080/"
        },
        "id": "mrMo44rgo31k",
        "outputId": "2defd095-a266-46af-e673-349fe22e8d62"
      },
      "execution_count": 4,
      "outputs": [
        {
          "output_type": "stream",
          "name": "stdout",
          "text": [
            "Распределение классов в новом тренировочном наборе:\n",
            "Класс 0: 4923 образцов\n",
            "Класс 1: 5742 образцов\n",
            "Класс 2: 4958 образцов\n",
            "Класс 3: 5131 образцов\n",
            "Класс 4: 4842 образцов\n",
            "Класс 5: 4421 образцов\n",
            "Класс 6: 4918 образцов\n",
            "Класс 7: 5265 образцов\n",
            "Класс 8: 4851 образцов\n",
            "Класс 9: 4949 образцов\n",
            "Распределение классов в валидационном наборе:\n",
            "Класс 0: 1000 образцов\n",
            "Класс 1: 1000 образцов\n",
            "Класс 2: 1000 образцов\n",
            "Класс 3: 1000 образцов\n",
            "Класс 4: 1000 образцов\n",
            "Класс 5: 1000 образцов\n",
            "Класс 6: 1000 образцов\n",
            "Класс 7: 1000 образцов\n",
            "Класс 8: 1000 образцов\n",
            "Класс 9: 1000 образцов\n",
            "Распределение классов в тестовом наборе:\n",
            "Класс 0: 980 образцов\n",
            "Класс 1: 1135 образцов\n",
            "Класс 2: 1032 образцов\n",
            "Класс 3: 1010 образцов\n",
            "Класс 4: 982 образцов\n",
            "Класс 5: 892 образцов\n",
            "Класс 6: 958 образцов\n",
            "Класс 7: 1028 образцов\n",
            "Класс 8: 974 образцов\n",
            "Класс 9: 1009 образцов\n"
          ]
        }
      ]
    }
  ]
}